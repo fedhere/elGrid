{
 "cells": [
  {
   "cell_type": "code",
   "execution_count": 8,
   "metadata": {
    "ExecuteTime": {
     "end_time": "2017-04-02T18:52:26.262863",
     "start_time": "2017-04-02T18:52:26.228003"
    },
    "collapsed": false,
    "run_control": {
     "frozen": false,
     "read_only": false
    }
   },
   "outputs": [
    {
     "name": "stdout",
     "output_type": "stream",
     "text": [
      "Populating the interactive namespace from numpy and matplotlib\n"
     ]
    }
   ],
   "source": [
    "import pandas as pd\n",
    "import geopandas as gpd\n",
    "%pylab inline"
   ]
  },
  {
   "cell_type": "code",
   "execution_count": 5,
   "metadata": {
    "ExecuteTime": {
     "end_time": "2017-04-02T18:51:50.415789",
     "start_time": "2017-04-02T18:50:06.880111"
    },
    "collapsed": false,
    "run_control": {
     "frozen": false,
     "read_only": false
    }
   },
   "outputs": [],
   "source": [
    "zipcodes = gpd.GeoDataFrame.from_file(\"cb_2015_us_zcta510_500k.shp\")"
   ]
  },
  {
   "cell_type": "code",
   "execution_count": 6,
   "metadata": {
    "ExecuteTime": {
     "end_time": "2017-04-02T18:51:53.112680",
     "start_time": "2017-04-02T18:51:52.778115"
    },
    "collapsed": false,
    "run_control": {
     "frozen": false,
     "read_only": false
    }
   },
   "outputs": [
    {
     "data": {
      "text/html": [
       "<div>\n",
       "<table border=\"1\" class=\"dataframe\">\n",
       "  <thead>\n",
       "    <tr style=\"text-align: right;\">\n",
       "      <th></th>\n",
       "      <th>AFFGEOID10</th>\n",
       "      <th>ALAND10</th>\n",
       "      <th>AWATER10</th>\n",
       "      <th>GEOID10</th>\n",
       "      <th>ZCTA5CE10</th>\n",
       "      <th>geometry</th>\n",
       "    </tr>\n",
       "  </thead>\n",
       "  <tbody>\n",
       "    <tr>\n",
       "      <th>0</th>\n",
       "      <td>8600000US36907</td>\n",
       "      <td>322847900</td>\n",
       "      <td>352811</td>\n",
       "      <td>36907</td>\n",
       "      <td>36907</td>\n",
       "      <td>POLYGON ((-88.41800160107559 32.3381764852796,...</td>\n",
       "    </tr>\n",
       "    <tr>\n",
       "      <th>1</th>\n",
       "      <td>8600000US85922</td>\n",
       "      <td>1011640213</td>\n",
       "      <td>789332</td>\n",
       "      <td>85922</td>\n",
       "      <td>85922</td>\n",
       "      <td>POLYGON ((-109.282102 33.708941, -109.281566 3...</td>\n",
       "    </tr>\n",
       "    <tr>\n",
       "      <th>2</th>\n",
       "      <td>8600000US84536</td>\n",
       "      <td>1546879191</td>\n",
       "      <td>209429</td>\n",
       "      <td>84536</td>\n",
       "      <td>84536</td>\n",
       "      <td>POLYGON ((-110.709068 37.258372, -110.708278 3...</td>\n",
       "    </tr>\n",
       "    <tr>\n",
       "      <th>3</th>\n",
       "      <td>8600000US94929</td>\n",
       "      <td>2749903</td>\n",
       "      <td>0</td>\n",
       "      <td>94929</td>\n",
       "      <td>94929</td>\n",
       "      <td>(POLYGON ((-122.968755 38.237523, -122.965434 ...</td>\n",
       "    </tr>\n",
       "    <tr>\n",
       "      <th>4</th>\n",
       "      <td>8600000US96086</td>\n",
       "      <td>664958004</td>\n",
       "      <td>1492676</td>\n",
       "      <td>96086</td>\n",
       "      <td>96086</td>\n",
       "      <td>POLYGON ((-123.40933 41.98724199999999, -123.4...</td>\n",
       "    </tr>\n",
       "  </tbody>\n",
       "</table>\n",
       "</div>"
      ],
      "text/plain": [
       "       AFFGEOID10     ALAND10  AWATER10 GEOID10 ZCTA5CE10  \\\n",
       "0  8600000US36907   322847900    352811   36907     36907   \n",
       "1  8600000US85922  1011640213    789332   85922     85922   \n",
       "2  8600000US84536  1546879191    209429   84536     84536   \n",
       "3  8600000US94929     2749903         0   94929     94929   \n",
       "4  8600000US96086   664958004   1492676   96086     96086   \n",
       "\n",
       "                                            geometry  \n",
       "0  POLYGON ((-88.41800160107559 32.3381764852796,...  \n",
       "1  POLYGON ((-109.282102 33.708941, -109.281566 3...  \n",
       "2  POLYGON ((-110.709068 37.258372, -110.708278 3...  \n",
       "3  (POLYGON ((-122.968755 38.237523, -122.965434 ...  \n",
       "4  POLYGON ((-123.40933 41.98724199999999, -123.4...  "
      ]
     },
     "execution_count": 6,
     "metadata": {},
     "output_type": "execute_result"
    }
   ],
   "source": [
    "zipcodes.head()"
   ]
  },
  {
   "cell_type": "code",
   "execution_count": 15,
   "metadata": {
    "ExecuteTime": {
     "end_time": "2017-04-02T18:54:58.238333",
     "start_time": "2017-04-02T18:54:58.171494"
    },
    "collapsed": false,
    "run_control": {
     "frozen": false,
     "read_only": false
    }
   },
   "outputs": [
    {
     "data": {
      "text/html": [
       "<div>\n",
       "<table border=\"1\" class=\"dataframe\">\n",
       "  <thead>\n",
       "    <tr style=\"text-align: right;\">\n",
       "      <th></th>\n",
       "      <th>AFFGEOID10</th>\n",
       "      <th>ALAND10</th>\n",
       "      <th>AWATER10</th>\n",
       "      <th>GEOID10</th>\n",
       "      <th>ZCTA5CE10</th>\n",
       "      <th>geometry</th>\n",
       "    </tr>\n",
       "  </thead>\n",
       "  <tbody>\n",
       "    <tr>\n",
       "      <th>0</th>\n",
       "      <td>8600000US36907</td>\n",
       "      <td>322847900</td>\n",
       "      <td>352811</td>\n",
       "      <td>36907</td>\n",
       "      <td>36907</td>\n",
       "      <td>POLYGON ((-88.41800160107559 32.3381764852796,...</td>\n",
       "    </tr>\n",
       "    <tr>\n",
       "      <th>1</th>\n",
       "      <td>8600000US85922</td>\n",
       "      <td>1011640213</td>\n",
       "      <td>789332</td>\n",
       "      <td>85922</td>\n",
       "      <td>85922</td>\n",
       "      <td>POLYGON ((-109.282102 33.708941, -109.281566 3...</td>\n",
       "    </tr>\n",
       "    <tr>\n",
       "      <th>2</th>\n",
       "      <td>8600000US84536</td>\n",
       "      <td>1546879191</td>\n",
       "      <td>209429</td>\n",
       "      <td>84536</td>\n",
       "      <td>84536</td>\n",
       "      <td>POLYGON ((-110.709068 37.258372, -110.708278 3...</td>\n",
       "    </tr>\n",
       "    <tr>\n",
       "      <th>3</th>\n",
       "      <td>8600000US94929</td>\n",
       "      <td>2749903</td>\n",
       "      <td>0</td>\n",
       "      <td>94929</td>\n",
       "      <td>94929</td>\n",
       "      <td>(POLYGON ((-122.968755 38.237523, -122.965434 ...</td>\n",
       "    </tr>\n",
       "    <tr>\n",
       "      <th>4</th>\n",
       "      <td>8600000US96086</td>\n",
       "      <td>664958004</td>\n",
       "      <td>1492676</td>\n",
       "      <td>96086</td>\n",
       "      <td>96086</td>\n",
       "      <td>POLYGON ((-123.40933 41.98724199999999, -123.4...</td>\n",
       "    </tr>\n",
       "  </tbody>\n",
       "</table>\n",
       "</div>"
      ],
      "text/plain": [
       "       AFFGEOID10     ALAND10  AWATER10 GEOID10 ZCTA5CE10  \\\n",
       "0  8600000US36907   322847900    352811   36907     36907   \n",
       "1  8600000US85922  1011640213    789332   85922     85922   \n",
       "2  8600000US84536  1546879191    209429   84536     84536   \n",
       "3  8600000US94929     2749903         0   94929     94929   \n",
       "4  8600000US96086   664958004   1492676   96086     96086   \n",
       "\n",
       "                                            geometry  \n",
       "0  POLYGON ((-88.41800160107559 32.3381764852796,...  \n",
       "1  POLYGON ((-109.282102 33.708941, -109.281566 3...  \n",
       "2  POLYGON ((-110.709068 37.258372, -110.708278 3...  \n",
       "3  (POLYGON ((-122.968755 38.237523, -122.965434 ...  \n",
       "4  POLYGON ((-123.40933 41.98724199999999, -123.4...  "
      ]
     },
     "execution_count": 15,
     "metadata": {},
     "output_type": "execute_result"
    }
   ],
   "source": [
    "zipcodes.head()"
   ]
  },
  {
   "cell_type": "code",
   "execution_count": 10,
   "metadata": {
    "ExecuteTime": {
     "end_time": "2017-04-02T18:54:06.452405",
     "start_time": "2017-04-02T18:54:06.431969"
    },
    "collapsed": true,
    "run_control": {
     "frozen": false,
     "read_only": false
    }
   },
   "outputs": [],
   "source": [
    "consumption = pd.read_csv(\"Average_monthly_residential_energy_usage_By_zip_code.csv\")"
   ]
  },
  {
   "cell_type": "code",
   "execution_count": 18,
   "metadata": {
    "ExecuteTime": {
     "end_time": "2017-04-02T18:56:09.782002",
     "start_time": "2017-04-02T18:56:09.773135"
    },
    "collapsed": false,
    "run_control": {
     "frozen": false,
     "read_only": false
    }
   },
   "outputs": [],
   "source": [
    "consumption[\"ZCTA5CE10\"] = consumption[\"Location 1\"].apply(lambda x: x.split(\"\\n\")[0])"
   ]
  },
  {
   "cell_type": "code",
   "execution_count": 25,
   "metadata": {
    "ExecuteTime": {
     "end_time": "2017-04-02T18:57:23.007403",
     "start_time": "2017-04-02T18:57:23.000656"
    },
    "collapsed": false,
    "run_control": {
     "frozen": false,
     "read_only": false
    }
   },
   "outputs": [
    {
     "data": {
      "text/plain": [
       "u'36907'"
      ]
     },
     "execution_count": 25,
     "metadata": {},
     "output_type": "execute_result"
    }
   ],
   "source": [
    "zipcodes[\"ZCTA5CE10\"].values[0] "
   ]
  },
  {
   "cell_type": "code",
   "execution_count": 24,
   "metadata": {
    "ExecuteTime": {
     "end_time": "2017-04-02T18:57:14.931323",
     "start_time": "2017-04-02T18:57:14.913974"
    },
    "collapsed": false,
    "run_control": {
     "frozen": false,
     "read_only": false
    }
   },
   "outputs": [
    {
     "data": {
      "text/plain": [
       "array(['90058', '90065', '91311', '90059', '90004', '91405', '90047',\n",
       "       '91607', '90069', '90048', '90005', '91316', '91367', '90292',\n",
       "       '90056', '91602', '91604', '91504', '91304', '90039', '90002',\n",
       "       '90094', '90077', '91331', '90057', '90062', '90033', '91214',\n",
       "       '91205', '90066', '90067', '91324', '90275', '91326', '90016',\n",
       "       '90063', '91401', '90402', '90035', '91606', '90068', '91325',\n",
       "       '91335', '90012', '90064', '90024', '90403', '90061', '91342',\n",
       "       '90034', '90015', '90732', '90710', '90025', '91303', '90501',\n",
       "       '91605', '91505', '90029', '90018', '90210', '91344', '91352',\n",
       "       '90008', '91406', '90026', '90003', '90248', '90038', '90027',\n",
       "       '90032', '91105', '90013', '90031', '90717', '91411', '91345',\n",
       "       '91309', '91040', '91302', '90009', '91307', '90247', '90293',\n",
       "       '90744', '90020', '90006', '91601', '91330', '90049', '90028',\n",
       "       '90017', '90230', '91356', '91306', '90007', '91042', '90044',\n",
       "       '90043', '90232', '90405', '90046', '91343', '90010', '91436',\n",
       "       '90212', '90045', '91340', '91364', '90019', '90042', '90291',\n",
       "       '90014', '90023', '90037', '90036', '90001', '90041', '90272',\n",
       "       '91402', '90021', '91423', '91403', '90011', '90731'], dtype=object)"
      ]
     },
     "execution_count": 24,
     "metadata": {},
     "output_type": "execute_result"
    }
   ],
   "source": [
    "consumption[\"ZCTA5CE10\"].values"
   ]
  },
  {
   "cell_type": "code",
   "execution_count": 26,
   "metadata": {
    "ExecuteTime": {
     "end_time": "2017-04-02T19:03:52.082668",
     "start_time": "2017-04-02T19:03:52.040277"
    },
    "collapsed": true,
    "run_control": {
     "frozen": false,
     "read_only": false
    }
   },
   "outputs": [],
   "source": [
    "population = pd.read_csv(\"2010+Census+Population+By+Zipcode+(ZCTA).csv\")"
   ]
  },
  {
   "cell_type": "code",
   "execution_count": 28,
   "metadata": {
    "ExecuteTime": {
     "end_time": "2017-04-02T19:04:26.790617",
     "start_time": "2017-04-02T19:04:26.773457"
    },
    "collapsed": false,
    "run_control": {
     "frozen": false,
     "read_only": false
    }
   },
   "outputs": [
    {
     "data": {
      "text/html": [
       "<div>\n",
       "<table border=\"1\" class=\"dataframe\">\n",
       "  <thead>\n",
       "    <tr style=\"text-align: right;\">\n",
       "      <th></th>\n",
       "      <th>Zip Code ZCTA</th>\n",
       "      <th>2010 Census Population</th>\n",
       "    </tr>\n",
       "  </thead>\n",
       "  <tbody>\n",
       "    <tr>\n",
       "      <th>33087</th>\n",
       "      <td>99923</td>\n",
       "      <td>87</td>\n",
       "    </tr>\n",
       "    <tr>\n",
       "      <th>33088</th>\n",
       "      <td>99925</td>\n",
       "      <td>819</td>\n",
       "    </tr>\n",
       "    <tr>\n",
       "      <th>33089</th>\n",
       "      <td>99926</td>\n",
       "      <td>1460</td>\n",
       "    </tr>\n",
       "    <tr>\n",
       "      <th>33090</th>\n",
       "      <td>99927</td>\n",
       "      <td>94</td>\n",
       "    </tr>\n",
       "    <tr>\n",
       "      <th>33091</th>\n",
       "      <td>99929</td>\n",
       "      <td>2338</td>\n",
       "    </tr>\n",
       "  </tbody>\n",
       "</table>\n",
       "</div>"
      ],
      "text/plain": [
       "       Zip Code ZCTA  2010 Census Population\n",
       "33087          99923                      87\n",
       "33088          99925                     819\n",
       "33089          99926                    1460\n",
       "33090          99927                      94\n",
       "33091          99929                    2338"
      ]
     },
     "execution_count": 28,
     "metadata": {},
     "output_type": "execute_result"
    }
   ],
   "source": [
    "population.tail()"
   ]
  },
  {
   "cell_type": "code",
   "execution_count": 35,
   "metadata": {
    "ExecuteTime": {
     "end_time": "2017-04-02T19:06:45.331916",
     "start_time": "2017-04-02T19:06:45.303089"
    },
    "collapsed": false,
    "run_control": {
     "frozen": false,
     "read_only": false
    }
   },
   "outputs": [],
   "source": [
    "population[\"ZCTA5CE10\"] = population[\"Zip Code ZCTA\"].apply(lambda x : \"%s\"%x)"
   ]
  },
  {
   "cell_type": "code",
   "execution_count": 46,
   "metadata": {
    "ExecuteTime": {
     "end_time": "2017-04-02T19:09:44.126068",
     "start_time": "2017-04-02T19:09:44.050010"
    },
    "collapsed": false,
    "run_control": {
     "frozen": false,
     "read_only": false
    }
   },
   "outputs": [],
   "source": [
    "zipcodes = zipcodes.merge(population)"
   ]
  },
  {
   "cell_type": "code",
   "execution_count": 47,
   "metadata": {
    "ExecuteTime": {
     "end_time": "2017-04-02T19:11:01.053662",
     "start_time": "2017-04-02T19:11:01.043275"
    },
    "collapsed": false,
    "run_control": {
     "frozen": false,
     "read_only": false
    }
   },
   "outputs": [
    {
     "data": {
      "text/plain": [
       "{'init': u'epsg:4269'}"
      ]
     },
     "execution_count": 47,
     "metadata": {},
     "output_type": "execute_result"
    }
   ],
   "source": [
    "zipcodes.crs"
   ]
  },
  {
   "cell_type": "code",
   "execution_count": 55,
   "metadata": {
    "ExecuteTime": {
     "end_time": "2017-04-02T19:22:25.252144",
     "start_time": "2017-04-02T19:20:19.286540"
    },
    "collapsed": false,
    "run_control": {
     "frozen": false,
     "read_only": false
    }
   },
   "outputs": [],
   "source": [
    "zipcodes[\"area\"] = zipcodes.to_crs(epsg=2263).geometry.area/(2.788*10**7) "
   ]
  },
  {
   "cell_type": "code",
   "execution_count": 56,
   "metadata": {
    "ExecuteTime": {
     "end_time": "2017-04-02T19:24:08.800640",
     "start_time": "2017-04-02T19:24:08.763934"
    },
    "collapsed": false,
    "run_control": {
     "frozen": false,
     "read_only": false
    }
   },
   "outputs": [],
   "source": [
    "zipcodes['density'] = zipcodes[\"Zip Code ZCTA\"] / zipcodes[\"area\"]"
   ]
  },
  {
   "cell_type": "code",
   "execution_count": 78,
   "metadata": {
    "ExecuteTime": {
     "end_time": "2017-04-02T20:21:52.485108",
     "start_time": "2017-04-02T20:21:52.364480"
    },
    "collapsed": false,
    "run_control": {
     "frozen": false,
     "read_only": false
    }
   },
   "outputs": [],
   "source": [
    "zipcodes['logdensity'] = np.log10(zipcodes.density.values)"
   ]
  },
  {
   "cell_type": "code",
   "execution_count": null,
   "metadata": {
    "ExecuteTime": {
     "start_time": "2017-04-03T00:23:11.112Z"
    },
    "collapsed": false,
    "run_control": {
     "frozen": false,
     "read_only": false
    }
   },
   "outputs": [],
   "source": [
    "zipcodes.plot(column = \"logdensity\", linewidth=0, figsize=(10,10), cmap=\"viridis\")"
   ]
  },
  {
   "cell_type": "code",
   "execution_count": 79,
   "metadata": {
    "ExecuteTime": {
     "end_time": "2017-04-02T20:22:03.934821",
     "start_time": "2017-04-02T20:22:02.771093"
    },
    "collapsed": false,
    "run_control": {
     "frozen": false,
     "read_only": false
    }
   },
   "outputs": [
    {
     "data": {
      "text/plain": [
       "(array([    40.,   1067.,  10140.,  10952.,   5093.,   2050.,    915.,\n",
       "           301.,     90.,     15.]),\n",
       " array([ 0.75436765,  1.45281906,  2.15127046,  2.84972187,  3.54817327,\n",
       "         4.24662468,  4.94507608,  5.64352749,  6.34197889,  7.04043029,\n",
       "         7.7388817 ]),\n",
       " <a list of 10 Patch objects>)"
      ]
     },
     "execution_count": 79,
     "metadata": {},
     "output_type": "execute_result"
    },
    {
     "data": {
      "image/png": "[encoded data removed]",
      "text/plain": [
       "<matplotlib.figure.Figure at 0x165637250>"
      ]
     },
     "metadata": {},
     "output_type": "display_data"
    }
   ],
   "source": [
    "hist(zipcodes.logdensity.values)"
   ]
  },
  {
   "cell_type": "code",
   "execution_count": null,
   "metadata": {
    "collapsed": true,
    "run_control": {
     "frozen": false,
     "read_only": false
    }
   },
   "outputs": [],
   "source": []
  }
 ],
 "metadata": {
  "kernelspec": {
   "display_name": "Python 3",
   "language": "python",
   "name": "python3"
  },
  "language_info": {
   "codemirror_mode": {
    "name": "ipython",
    "version": 2
   },
   "file_extension": ".py",
   "mimetype": "text/x-python",
   "name": "python",
   "nbconvert_exporter": "python",
   "pygments_lexer": "ipython2",
   "version": "2.7.12"
  },
  "toc": {
   "colors": {
    "hover_highlight": "#DAA520",
    "running_highlight": "#FF0000",
    "selected_highlight": "#FFD700"
   },
   "moveMenuLeft": true,
   "nav_menu": {
    "height": "14px",
    "width": "254px"
   },
   "navigate_menu": true,
   "number_sections": true,
   "sideBar": true,
   "threshold": 4,
   "toc_cell": false,
   "toc_section_display": "block",
   "toc_window_display": false
  }
 },
 "nbformat": 4,
 "nbformat_minor": 1
}
